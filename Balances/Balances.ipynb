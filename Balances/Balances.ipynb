{
 "cells": [
  {
   "cell_type": "code",
   "execution_count": 1,
   "metadata": {},
   "outputs": [],
   "source": [
    "import pandas as pd\n",
    "import tkinter as tk\n",
    "from tkinter import simpledialog\n",
    "from CoolProp.CoolProp import PropsSI\n",
    "import numpy as np"
   ]
  },
  {
   "cell_type": "markdown",
   "metadata": {},
   "source": [
    "### Function to get the initial values from the user"
   ]
  },
  {
   "cell_type": "code",
   "execution_count": 2,
   "metadata": {},
   "outputs": [],
   "source": [
    "\n",
    "def ask_for_inputs():\n",
    "    root = tk.Tk()\n",
    "    root.withdraw()\n",
    "    F = float(simpledialog.askstring(\"Input\", \"Enter the initial flow (kg):\"))\n",
    "    xf = float(simpledialog.askstring(\"Input\", \"Enter the concentration of the feed flow (% w/w):\"))\n",
    "    Tf = float(simpledialog.askstring(\"Input\", \"Enter the feed temperature (K):\"))\n",
    "    P1 = float(simpledialog.askstring(\"Input\", \"Enter the pressure inside the effect (Pa):\"))\n",
    "    Ps = float(simpledialog.askstring(\"Input\", \"Enter the steam pressure (Pa):\"))\n",
    "    xL = float(simpledialog.askstring(\"Input\", \"Enter the concentration of the output flow (% w/w):\"))\n",
    "\n",
    "    return xf, Tf, P1, Ps, F, xL\n"
   ]
  },
  {
   "cell_type": "markdown",
   "metadata": {},
   "source": [
    "### Material Balance (One evaporator in steady state)"
   ]
  },
  {
   "cell_type": "code",
   "execution_count": 3,
   "metadata": {},
   "outputs": [],
   "source": [
    "def material_balance(F:float,xf:float,xL:float):\n",
    "    \"\"\"\n",
    "    Calculates the material balance in an evaporator.\n",
    "\n",
    "    This function determines the liquor flow (L) and vapor flow (V) exiting an evaporator \n",
    "    based on the initial flow (F) and the concentrations of the inlet (xf) and outlet (xL) flows.\n",
    "    Args:\n",
    "        F (float): Initial flow in kg.\n",
    "        xf (float): Concentration of the flow in % w/w.\n",
    "        xL (float): Concentration of the output flow in % w/w.\n",
    "\n",
    "    Returns:\n",
    "        L (float): Liquor flow out of the evaporator in kg. \n",
    "        V (float): Vapor flow out of the evaporator in kg.\n",
    "    \"\"\"    \n",
    "    L=F*xf/xL\n",
    "    V=F-L\n",
    "    print(f\"Feed flow (F): {F} kg\\nFeed concentration (xf): {xf} % w/w\\nLiquor concentration (xL): {xL} % w/w\")\n",
    "    print(f\"Liquor flow (L): {L:.2f} kg\\nVapor flow (V): {V:.2f} kg\")\n",
    "    return L,V"
   ]
  },
  {
   "cell_type": "markdown",
   "metadata": {},
   "source": [
    "### Boling_Point_Elevation \n",
    "Fundamentals of Salt Water Desalination (Appendix B1)"
   ]
  },
  {
   "cell_type": "code",
   "execution_count": 6,
   "metadata": {},
   "outputs": [],
   "source": [
    "def Boling_Point_Elevation(xf:float,P1: float):\n",
    "    \"\"\"\n",
    "    Calculates the boiling point elevation (BPE) and the corresponding temperature inside a system (T1) \n",
    "    based on a given concentration of a solute (salt) and the absolute pressure of the system\n",
    "    Args:\n",
    "        xf (float): Concentration of the flow (% w/w).\n",
    "        Tf (float): Feed temperature\n",
    "        P1 (float): Absolute pressure inside the effect (Pa)\n",
    "\n",
    "    Returns:\n",
    "        BPE (float): Boiling point elevation (K). \n",
    "        T1 (float): Temperature inside the effect (K).\n",
    "    \"\"\"\n",
    "    \n",
    "    #Compute water properties\n",
    "            #Q is quality, where 0 is saturated liquid and 1 is saturated vapor\n",
    "    Tw= PropsSI('T', 'P', P1, 'Q', 0, 'Water')-273.15 #Boiling point of pure water at P1 (°C)\n",
    "    A=8.325E-2+(1.883E-4*Tw)+(4.02E-6*(Tw**2))\n",
    "    B=-7.625e-4+(9.02e-5*Tw)-(5.2e-7*(Tw**2))\n",
    "    C=1.522E-4-(3E-6*Tw)-(3E-8*(Tw**2))\n",
    "    BPE=A*xf+(B*(xf**2))+(C*(xf**3))\n",
    "    T1= (Tw+BPE)+273.15 #Boiling point of the solution at P1 (K)\n",
    "    print(f\"Boiling Point Elevation (BPE): {BPE:.2f} °C\\nTemperature inside the effect (T1): {T1:.2f} K\")\n",
    "    return BPE, T1\n"
   ]
  },
  {
   "cell_type": "markdown",
   "metadata": {},
   "source": [
    "### Energy Balance (One evaporator in steady state)"
   ]
  },
  {
   "cell_type": "code",
   "execution_count": 7,
   "metadata": {},
   "outputs": [],
   "source": [
    "def enthalpy (T,P,sF,hfe):\n",
    "    hf=PropsSI('H', 'T', T ,'P', P, 'Water')\n",
    "    a1, a2, a3, a4, a5,a6,a7,a8,a9,a10 = (-2.348e4, 3.152e5, 2.803e6, -1.446e5, 7.826e03,-4.417e1,2.139e-1,-1.991e4,2.778e4,9.728e1)\n",
    "    tf=T-273.15\n",
    "    hf=hf-(sF*(a1+(a2*sF)+(a3*(sF**2))+(a4*(sF**3))+(a5*tf)+(a6*(tf**2))+(a7*(tf**3))+(a8*tf*sF)+(a9*tf*(sF**2))+(a10*sF*(tf**2))))\n",
    "    err=abs((hf-hfe)/hfe)*100\n",
    "    print(f\"Error compared to IAPWS {err:.2f}%\")\n",
    "    return hf"
   ]
  },
  {
   "cell_type": "code",
   "execution_count": 68,
   "metadata": {},
   "outputs": [
    {
     "name": "stdout",
     "output_type": "stream",
     "text": [
      "Error compared to iapws 0.43%\n"
     ]
    },
    {
     "data": {
      "text/plain": [
       "293092.6155173713"
      ]
     },
     "execution_count": 68,
     "metadata": {},
     "output_type": "execute_result"
    }
   ],
   "source": [
    "HF1=enthalpy (353,101325,0.1,0.294363423e6)"
   ]
  },
  {
   "cell_type": "code",
   "execution_count": 20,
   "metadata": {},
   "outputs": [],
   "source": [
    "def energy_balance(xf:float,Tf: float,P1: float,T1: float,Ps:float,F:float,V: float,L: float,xL:float):\n",
    "    \"\"\"\n",
    "\n",
    "    Calculates the energy balance in an evaporator.\n",
    "\n",
    "    This function computes the temperature of the steam vapor (Ts) and the mass flow of steam (S) \n",
    "    based on the flow concentrations, temperatures, and pressures involved in the evaporation process.\n",
    "\n",
    "    Args:\n",
    "        xf (float): Concentration of the flow (% w/w).\n",
    "        Tf (float): Feed temperature\n",
    "        P1 (float): Pressure inside the effect (Pa)\n",
    "        T1 (float): Temperature inside the effect (Pa)\n",
    "        Ps (float): Steam pressure (Pa)\n",
    "        L (float): Liquor flow out of the evaporator (kg).\n",
    "        xL (float): Concentration of the output flow in % w/w. \n",
    "        V (float): Vapor flow out of the evaporator (kg). \n",
    "        F (float): Initial flow (kg).\n",
    "    Returns:\n",
    "        Ts (float): Temperature os the steam vapor (K).\n",
    "        S (float): steam mass flow (kg).\n",
    "    \"\"\"\n",
    "    #STEAM PROPERTIES\n",
    "    Ts= PropsSI('T', 'P', Ps, 'Q', 0, 'Water')  #Boiling point of pure water at Ps (K)\n",
    "    H_liq = PropsSI('H', 'P', Ps, 'Q', 0, 'Water')\n",
    "    H_vap = PropsSI('H', 'P', Ps, 'Q', 1, 'Water')\n",
    "    l_heat=H_vap - H_liq    #Latent heat of water vapor at Ps (J/kg)\n",
    "    \n",
    "    #Enthalpies of the process\n",
    "    Hv=PropsSI('H', 'P', P1, 'Q', 1, 'Water') # Produced vapor at P1,T1 without solute\n",
    "    hf=PropsSI('H', 'T', Tf, 'P', 101325, 'Water')\n",
    "    hL=PropsSI('H', 'T', T1, 'P', P1, 'Water')#Liquor entalphy at T1,xL\n",
    "    a1, a2, a3, a4, a5,a6,a7,a8,a9,a10 = (-2.348e4, 3.152e5, 2.803e6, -1.446e5, 7.826e03,-4.417e1,2.139e-1,-1.991e4,2.778e4,9.728e1)\n",
    "    sF=xf/100\n",
    "    sL=xL/100\n",
    "    tf=Tf-273.15\n",
    "    t1=T1-273.15\n",
    "    hf=hf-(sF*(a1+(a2*sF)+(a3*(sF**2))+(a4*(sF**3))+(a5*tf)+(a6*(tf**2))+(a7*(tf**3))+(a8*tf*sF)+(a9*tf*(sF**2))+(a10*sF*(tf**2))))\n",
    "    hL=hL-(sL*(a1+(a2*sL)+(a3*(sL**2))+(a4*(sL**3))+(a5*t1)+(a6*(t1**2))+(a7*(t1**3))+(a8*t1*sL)+(a9*t1*(sL**2))+(a10*sL*(t1**2))))\n",
    "    # Steam mass flow calculation\n",
    "    S = (L * hL + V * Hv - F * hf) / l_heat\n",
    "    A=3054 #cm^2\n",
    "    U=((S*l_heat)/(A*(Ts-T1)))  #J/K*cm^2\n",
    "\n",
    "    print(f\"Steam mass flow (S): {S:.2f} kg\\nTemperature of the steam (Ts): {Ts:.2f} K\")\n",
    "    print(f\"The overall heat transfer coefficient (U): {U:.2f} J/K*cm^2\")\n",
    "    return S, Ts,U\n"
   ]
  },
  {
   "cell_type": "code",
   "execution_count": null,
   "metadata": {},
   "outputs": [],
   "source": []
  },
  {
   "cell_type": "code",
   "execution_count": 14,
   "metadata": {},
   "outputs": [],
   "source": [
    "#xf, Tf, P1, Ps, F, xL = ask_for_inputs()\n",
    "#L,V=material_balance(F,xf,xL)\n",
    "#BPE, T1=Boling_Point_Elevation(xf,P1)\n",
    "#S,Ts=energy_balance(xf,Tf,P1,T1,Ps,F,V,L)"
   ]
  },
  {
   "cell_type": "markdown",
   "metadata": {},
   "source": [
    "### Some experimental data to see the performance of the model"
   ]
  },
  {
   "cell_type": "markdown",
   "metadata": {},
   "source": [
    "#### Preliminary Experimental Data (atmospheric pressure)"
   ]
  },
  {
   "cell_type": "code",
   "execution_count": 21,
   "metadata": {},
   "outputs": [
    {
     "name": "stdout",
     "output_type": "stream",
     "text": [
      "Feed flow (F): 20.4 kg\n",
      "Feed concentration (xf): 5 % w/w\n",
      "Liquor concentration (xL): 11.2 % w/w\n",
      "Liquor flow (L): 9.11 kg\n",
      "Vapor flow (V): 11.29 kg\n",
      "Boiling Point Elevation (BPE): 0.70 °C\n",
      "Temperature inside the effect (T1): 365.25 K\n",
      "Steam mass flow (S): 23.17 kg\n",
      "Temperature of the steam (Ts): 380.48 K\n",
      "The overall heat transfer coefficient (U): 1114.48 J/K*cm^2\n"
     ]
    }
   ],
   "source": [
    "\n",
    "F=20.4\n",
    "xf=5\n",
    "Tf=298.15\n",
    "P1=74000 #Atmospheric Pressure\n",
    "Ps=131000\n",
    "xL=11.2\n",
    "L,V=material_balance(F,xf,xL)\n",
    "BPE, T1=Boling_Point_Elevation(xf,P1)\n",
    "S,Ts,U=energy_balance(xf,Tf,P1,T1,Ps,F,V,L,xL)\n"
   ]
  },
  {
   "cell_type": "code",
   "execution_count": 30,
   "metadata": {},
   "outputs": [],
   "source": [
    "Patm_exp = {\n",
    "    \"P1 (Pa)\": P1, # Pressure in the effect (Pa)\n",
    "    \"F (kg)\": 20.4,   # Feed flow (kg)\n",
    "    \"xf (% w/w)\": 5.0,   # Feed concentration (% w/w)\n",
    "    \"xL (% w/w)\": 11.2,   # Liquor concentration (% w/w)\n",
    "    \"L (kg)\": 7.242,    # Liquor flow (kg)\n",
    "    \"V (kg)\": 13.1,    # Vapor flow (kg)\n",
    "    \"S (kg)\": 17.5     # Steam mass flow (kg)\n",
    "}"
   ]
  },
  {
   "cell_type": "code",
   "execution_count": 31,
   "metadata": {},
   "outputs": [],
   "source": [
    "Patm_exp = pd.DataFrame([Patm_exp])\n",
    "data = {\n",
    "    \"P1 (Pa)\": P1, # Pressure in the effect (Pa)\n",
    "    \"F (kg)\": F,\n",
    "    \"xf (% w/w)\": xf,\n",
    "    \"xL (% w/w)\": xL,\n",
    "    \"L (kg)\": L,\n",
    "    \"V (kg)\": V,\n",
    "    \"S (kg)\": S\n",
    "}\n",
    "Patm_exp.loc[len(Patm_exp)] = data"
   ]
  },
  {
   "cell_type": "code",
   "execution_count": 19,
   "metadata": {},
   "outputs": [
    {
     "data": {
      "text/html": [
       "<div>\n",
       "<style scoped>\n",
       "    .dataframe tbody tr th:only-of-type {\n",
       "        vertical-align: middle;\n",
       "    }\n",
       "\n",
       "    .dataframe tbody tr th {\n",
       "        vertical-align: top;\n",
       "    }\n",
       "\n",
       "    .dataframe thead th {\n",
       "        text-align: right;\n",
       "    }\n",
       "</style>\n",
       "<table border=\"1\" class=\"dataframe\">\n",
       "  <thead>\n",
       "    <tr style=\"text-align: right;\">\n",
       "      <th></th>\n",
       "      <th>P1 (Pa)</th>\n",
       "      <th>F (kg)</th>\n",
       "      <th>xf (% w/w)</th>\n",
       "      <th>xL (% w/w)</th>\n",
       "      <th>L (kg)</th>\n",
       "      <th>V (kg)</th>\n",
       "      <th>S (kg)</th>\n",
       "      <th>(L+V)-F</th>\n",
       "    </tr>\n",
       "  </thead>\n",
       "  <tbody>\n",
       "    <tr>\n",
       "      <th>0</th>\n",
       "      <td>74000</td>\n",
       "      <td>20.4</td>\n",
       "      <td>5.0</td>\n",
       "      <td>11.2</td>\n",
       "      <td>7.242000</td>\n",
       "      <td>13.100000</td>\n",
       "      <td>17.500000</td>\n",
       "      <td>-0.058</td>\n",
       "    </tr>\n",
       "    <tr>\n",
       "      <th>1</th>\n",
       "      <td>74000</td>\n",
       "      <td>20.4</td>\n",
       "      <td>5.0</td>\n",
       "      <td>11.2</td>\n",
       "      <td>9.107143</td>\n",
       "      <td>11.292857</td>\n",
       "      <td>23.324553</td>\n",
       "      <td>0.000</td>\n",
       "    </tr>\n",
       "  </tbody>\n",
       "</table>\n",
       "</div>"
      ],
      "text/plain": [
       "   P1 (Pa)  F (kg)  xf (% w/w)  xL (% w/w)    L (kg)     V (kg)     S (kg)  \\\n",
       "0    74000    20.4         5.0        11.2  7.242000  13.100000  17.500000   \n",
       "1    74000    20.4         5.0        11.2  9.107143  11.292857  23.324553   \n",
       "\n",
       "   (L+V)-F  \n",
       "0   -0.058  \n",
       "1    0.000  "
      ]
     },
     "execution_count": 19,
     "metadata": {},
     "output_type": "execute_result"
    }
   ],
   "source": [
    "Patm_exp[\"(L+V)-F\"]=(Patm_exp[\"L (kg)\"]+Patm_exp[\"V (kg)\"])-Patm_exp[\"F (kg)\"]\n",
    "Patm_exp"
   ]
  },
  {
   "cell_type": "markdown",
   "metadata": {},
   "source": [
    "Discrepancies Observed in Calculations and Preliminary Experimental Data (atmospheric pressure)"
   ]
  },
  {
   "cell_type": "code",
   "execution_count": 11,
   "metadata": {},
   "outputs": [
    {
     "name": "stdout",
     "output_type": "stream",
     "text": [
      "\n",
      "This is calculated for the given data:\n",
      "F = 20.4 kg, xf = 5% w/w, Tf = 298.15 K, P1 = 74000 Pa, Ps = 131000 Pa, xL = 11.2% w/w\n"
     ]
    },
    {
     "data": {
      "text/html": [
       "<div>\n",
       "<style scoped>\n",
       "    .dataframe tbody tr th:only-of-type {\n",
       "        vertical-align: middle;\n",
       "    }\n",
       "\n",
       "    .dataframe tbody tr th {\n",
       "        vertical-align: top;\n",
       "    }\n",
       "\n",
       "    .dataframe thead th {\n",
       "        text-align: right;\n",
       "    }\n",
       "</style>\n",
       "<table border=\"1\" class=\"dataframe\">\n",
       "  <thead>\n",
       "    <tr style=\"text-align: right;\">\n",
       "      <th></th>\n",
       "      <th>% Error_L</th>\n",
       "      <th>% Error_V</th>\n",
       "      <th>% Error_S</th>\n",
       "    </tr>\n",
       "  </thead>\n",
       "  <tbody>\n",
       "    <tr>\n",
       "      <th>0</th>\n",
       "      <td>25.754527</td>\n",
       "      <td>13.794984</td>\n",
       "      <td>33.28316</td>\n",
       "    </tr>\n",
       "  </tbody>\n",
       "</table>\n",
       "</div>"
      ],
      "text/plain": [
       "   % Error_L  % Error_V  % Error_S\n",
       "0  25.754527  13.794984   33.28316"
      ]
     },
     "execution_count": 11,
     "metadata": {},
     "output_type": "execute_result"
    }
   ],
   "source": [
    "errors = (abs(Patm_exp.iloc[0,4:7] - Patm_exp.iloc[1,4:7])/Patm_exp.iloc[0,4:7])*100\n",
    "n_columns = ['% Error_L', '% Error_V', '% Error_S'] \n",
    "d_errors = pd.DataFrame([errors.values], columns=n_columns)\n",
    "# Imprimir el mensaje sobre el ensayo\n",
    "print(\"\\nThis is calculated for the given data:\")\n",
    "print(f\"F = {F} kg, xf = {xf}% w/w, Tf = {Tf} K, P1 = {P1} Pa, Ps = {Ps} Pa, xL = {xL}% w/w\")\n",
    "d_errors"
   ]
  },
  {
   "cell_type": "markdown",
   "metadata": {},
   "source": [
    "#### Preliminary Experimental Data (vaccum pressure)"
   ]
  },
  {
   "cell_type": "code",
   "execution_count": 12,
   "metadata": {},
   "outputs": [
    {
     "name": "stdout",
     "output_type": "stream",
     "text": [
      "Feed flow (F): 15.912 kg\n",
      "Feed concentration (xf): 5 % w/w\n",
      "Liquor concentration (xL): 13.3 % w/w\n",
      "Liquor flow (L): 5.98 kg\n",
      "Vapor flow (V): 9.93 kg\n",
      "Boiling Point Elevation (BPE): 0.66 °C\n",
      "Temperature inside the effect (T1): 353.55 K\n",
      "Steam mass flow (S): 18.06 kg\n",
      "Temperature of the steam (Ts): 380.48 K\n"
     ]
    }
   ],
   "source": [
    "F2=15.912\n",
    "xf2=5\n",
    "Tf2=298.15\n",
    "P12=46909\n",
    "Ps2=131000\n",
    "xL2=13.3\n",
    "L2,V2=material_balance(F2,xf2,xL2)\n",
    "BPE2, T12=Boling_Point_Elevation(xf2,P12)\n",
    "S2,Ts2=energy_balance(xf2,Tf2,P12,T12,Ps2,F2,V2,L2)"
   ]
  },
  {
   "cell_type": "code",
   "execution_count": 13,
   "metadata": {},
   "outputs": [],
   "source": [
    "Vaccumexp = {\n",
    "    \"P1 (Pa)\": P12, # Pressure in the effect (Pa)\n",
    "    \"F (kg)\": F2,   # Feed flow (kg)\n",
    "    \"xf (% w/w)\": xf2,   # Feed concentration (% w/w)\n",
    "    \"xL (% w/w)\": 13.3,   # Liquor concentration (% w/w)\n",
    "    \"L (kg)\": 7.956,    # Liquor flow (kg)\n",
    "    \"V (kg)\": 6.3,    # Vapor flow (kg)\n",
    "    \"S (kg)\": 11.4     # Steam mass flow (kg)\n",
    "}\n",
    "Vaccum = pd.DataFrame([Vaccumexp])\n",
    "Vaccum_model = {\n",
    "    \"P1 (Pa)\": P12, # Pressure in the effect (Pa)\n",
    "    \"F (kg)\": F2,   # Feed flow (kg)\n",
    "    \"xf (% w/w)\": xf2,   # Feed concentration (% w/w)\n",
    "    \"xL (% w/w)\": xL2,   # Liquor concentration (% w/w)\n",
    "    \"L (kg)\": L2,    # Liquor flow (kg)\n",
    "    \"V (kg)\": V2,    # Vapor flow (kg)\n",
    "    \"S (kg)\": S2     # Steam mass flow (kg)\n",
    "}\n",
    "Vaccum.loc[len(Vaccumexp)] = Vaccum_model \n"
   ]
  },
  {
   "cell_type": "code",
   "execution_count": 14,
   "metadata": {},
   "outputs": [
    {
     "data": {
      "text/html": [
       "<div>\n",
       "<style scoped>\n",
       "    .dataframe tbody tr th:only-of-type {\n",
       "        vertical-align: middle;\n",
       "    }\n",
       "\n",
       "    .dataframe tbody tr th {\n",
       "        vertical-align: top;\n",
       "    }\n",
       "\n",
       "    .dataframe thead th {\n",
       "        text-align: right;\n",
       "    }\n",
       "</style>\n",
       "<table border=\"1\" class=\"dataframe\">\n",
       "  <thead>\n",
       "    <tr style=\"text-align: right;\">\n",
       "      <th></th>\n",
       "      <th>P1 (Pa)</th>\n",
       "      <th>F (kg)</th>\n",
       "      <th>xf (% w/w)</th>\n",
       "      <th>xL (% w/w)</th>\n",
       "      <th>L (kg)</th>\n",
       "      <th>V (kg)</th>\n",
       "      <th>S (kg)</th>\n",
       "      <th>(L+V)-F</th>\n",
       "    </tr>\n",
       "  </thead>\n",
       "  <tbody>\n",
       "    <tr>\n",
       "      <th>0</th>\n",
       "      <td>46909</td>\n",
       "      <td>15.912</td>\n",
       "      <td>5</td>\n",
       "      <td>13.3</td>\n",
       "      <td>7.956000</td>\n",
       "      <td>6.300000</td>\n",
       "      <td>11.400000</td>\n",
       "      <td>-1.656</td>\n",
       "    </tr>\n",
       "    <tr>\n",
       "      <th>7</th>\n",
       "      <td>46909</td>\n",
       "      <td>15.912</td>\n",
       "      <td>5</td>\n",
       "      <td>13.3</td>\n",
       "      <td>5.981955</td>\n",
       "      <td>9.930045</td>\n",
       "      <td>18.055327</td>\n",
       "      <td>0.000</td>\n",
       "    </tr>\n",
       "  </tbody>\n",
       "</table>\n",
       "</div>"
      ],
      "text/plain": [
       "   P1 (Pa)  F (kg)  xf (% w/w)  xL (% w/w)    L (kg)    V (kg)     S (kg)  \\\n",
       "0    46909  15.912           5        13.3  7.956000  6.300000  11.400000   \n",
       "7    46909  15.912           5        13.3  5.981955  9.930045  18.055327   \n",
       "\n",
       "   (L+V)-F  \n",
       "0   -1.656  \n",
       "7    0.000  "
      ]
     },
     "execution_count": 14,
     "metadata": {},
     "output_type": "execute_result"
    }
   ],
   "source": [
    "Vaccum[\"(L+V)-F\"] = (Vaccum[\"L (kg)\"] + Vaccum[\"V (kg)\"]) - Vaccum[\"F (kg)\"]\n",
    "Vaccum"
   ]
  },
  {
   "cell_type": "markdown",
   "metadata": {},
   "source": [
    "Discrepancies Observed in Calculations and Preliminary Experimental Data (vaccum)"
   ]
  },
  {
   "cell_type": "code",
   "execution_count": 93,
   "metadata": {},
   "outputs": [
    {
     "data": {
      "text/html": [
       "<div>\n",
       "<style scoped>\n",
       "    .dataframe tbody tr th:only-of-type {\n",
       "        vertical-align: middle;\n",
       "    }\n",
       "\n",
       "    .dataframe tbody tr th {\n",
       "        vertical-align: top;\n",
       "    }\n",
       "\n",
       "    .dataframe thead th {\n",
       "        text-align: right;\n",
       "    }\n",
       "</style>\n",
       "<table border=\"1\" class=\"dataframe\">\n",
       "  <thead>\n",
       "    <tr style=\"text-align: right;\">\n",
       "      <th></th>\n",
       "      <th>% Error_L</th>\n",
       "      <th>% Error_V</th>\n",
       "      <th>% Error_S</th>\n",
       "    </tr>\n",
       "  </thead>\n",
       "  <tbody>\n",
       "    <tr>\n",
       "      <th>0</th>\n",
       "      <td>24.81203</td>\n",
       "      <td>57.619764</td>\n",
       "      <td>58.380058</td>\n",
       "    </tr>\n",
       "  </tbody>\n",
       "</table>\n",
       "</div>"
      ],
      "text/plain": [
       "   % Error_L  % Error_V  % Error_S\n",
       "0   24.81203  57.619764  58.380058"
      ]
     },
     "execution_count": 15,
     "metadata": {},
     "output_type": "execute_result"
    }
   ],
   "source": [
    "errors_v = (abs(Vaccum.iloc[0, 4:7] - Vaccum.iloc[1, 4:7]) / Vaccum.iloc[0, 4:7]) * 100\n",
    "\n",
    "d_errorsv = pd.DataFrame([errors_v.values], columns=n_columns)\n",
    "d_errorsv"
   ]
  }
 ],
 "metadata": {
  "kernelspec": {
   "display_name": "Evaporadores",
   "language": "python",
   "name": "python3"
  },
  "language_info": {
   "codemirror_mode": {
    "name": "ipython",
    "version": 3
   },
   "file_extension": ".py",
   "mimetype": "text/x-python",
   "name": "python",
   "nbconvert_exporter": "python",
   "pygments_lexer": "ipython3",
   "version": "3.12.4"
  }
 },
 "nbformat": 4,
 "nbformat_minor": 2
}
