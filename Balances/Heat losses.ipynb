{
 "cells": [
  {
   "cell_type": "code",
   "execution_count": 10,
   "id": "c248bc0c",
   "metadata": {},
   "outputs": [],
   "source": [
    "import numpy as np\n",
    "from CoolProp.CoolProp import PropsSI"
   ]
  },
  {
   "cell_type": "code",
   "execution_count": 11,
   "id": "1230e4f3",
   "metadata": {},
   "outputs": [],
   "source": [
    "def losses_arr(S_expected_arr, P1_arr, Ps_arr, xf_arr, xL_arr, Tf_arr, F_arr, V_arr):\n",
    "    S_results = []\n",
    "    Qp_results = []\n",
    "    U_result = []\n",
    "    Ues_result = []\n",
    "    S_nhl_results=[]\n",
    "    # Loop through each set of input values\n",
    "    for i in range(len(S_expected_arr)):\n",
    "        S_expected = S_expected_arr[i]\n",
    "        P1 = P1_arr[i]\n",
    "        Ps = Ps_arr[i]\n",
    "        xf = xf_arr[i]\n",
    "        xL = xL_arr[i]\n",
    "        Tf = Tf_arr[i]\n",
    "        F = F_arr[i]\n",
    "        V = V_arr[i]\n",
    "        \n",
    "        if xf > 0 and xL > 0:\n",
    "            L = (xf * F) / xL\n",
    "            V=F-L\n",
    "        else:\n",
    "            L = F - V\n",
    "        # Boiling point of water at P1\n",
    "        Tw = PropsSI('T', 'P', P1, 'Q', 0, 'Water') - 273.15\n",
    "        \n",
    "        # Boiling point elevation (BPE) and T1 calculation\n",
    "        A = 8.325E-2 + (1.883E-4 * Tw) + (4.02E-6 * (Tw**2))\n",
    "        B = -7.625e-4 + (9.02e-5 * Tw) - (5.2e-7 * (Tw**2))\n",
    "        C = 1.522E-4 - (3E-6 * Tw) - (3E-8 * (Tw**2))\n",
    "        BPE = A * xf + (B * (xf**2)) + (C * (xf**3))\n",
    "        T1 = (Tw + BPE) + 273.15  # Boiling point of the solution at P1 (K)\n",
    "        \n",
    "        # Calculate enthalpies for vapor, liquid, and feed\n",
    "        H_liq = PropsSI('H', 'P', Ps, 'Q', 0, 'Water')\n",
    "        H_vap = PropsSI('H', 'P', Ps, 'Q', 1, 'Water')\n",
    "        l_heat = H_vap - H_liq  # Latent heat of water vapor at Ps (J/kg)\n",
    "        \n",
    "        Hv = PropsSI('H', 'P', P1, 'Q', 1, 'Water')  # Produced vapor at P1, T1 without solute\n",
    "        hf = PropsSI('H', 'T', Tf, 'P', 101325, 'Water')\n",
    "        hL = PropsSI('H', 'T', T1, 'Q', 0, 'Water')  # Liquor enthalpy at T1, xL\n",
    "        \n",
    "        # Adjust hf and hL using solute concentration\n",
    "        a1, a2, a3, a4, a5, a6, a7, a8, a9, a10 = (-2.348e4, 3.152e5, 2.803e6, -1.446e5, 7.826e03, -4.417e1, 2.139e-1, -1.991e4, 2.778e4, 9.728e1)\n",
    "        sF = xf / 100\n",
    "        sL = xL / 100\n",
    "        tf = Tf - 273.15\n",
    "        t1 = T1 - 273.15\n",
    "        \n",
    "        # Correction for hf and hL using solute and temperature dependence\n",
    "        hf =hf- (sF * (a1 + (a2 * sF) + (a3 * (sF**2)) + (a4 * (sF**3)) + (a5 * tf) + (a6 * (tf**2)) + (a7 * (tf**3)) + (a8 * tf * sF) + (a9 * tf * (sF**2)) + (a10 * sF * (tf**2))))\n",
    "        hL =hL- (sL * (a1 + (a2 * sL) + (a3 * (sL**2)) + (a4 * (sL**3)) + (a5 * t1) + (a6 * (t1**2)) + (a7 * (t1**3)) + (a8 * t1 * sL) + (a9 * t1 * (sL**2)) + (a10 * sL * (t1**2))))\n",
    "        \n",
    "        # Energy balance calculations\n",
    "        Qp = (S_expected * l_heat) - (L * hL + V * Hv - F * hf)\n",
    "        S = ((L * hL + V * Hv - F * hf)+(8113.58*1000)) / l_heat\n",
    "        S_nhl=(L * hL + V * Hv - F * hf) / l_heat\n",
    "        Ts= PropsSI('T', 'P', Ps, 'Q', 0, 'Water')  #Boiling point of pure water at Ps (K)\n",
    "        Ar=3054\n",
    "        U=(S*l_heat)/(Ar*(Ts-T1))\n",
    "        Ues=(S_expected*l_heat)/(Ar*(Ts-T1))\n",
    "        S_results.append(S)\n",
    "        Qp_results.append(Qp)\n",
    "        U_result.append(U)\n",
    "        Ues_result.append(Ues)\n",
    "        S_nhl_results.append(S_nhl)\n",
    "    \n",
    "    # Convert results to numpy arrays for easy manipulation\n",
    "    S_results = np.array(S_results)\n",
    "    Qp_results = np.array(Qp_results)\n",
    "    S_nhl_results = np.array(S_nhl_results)\n",
    "    U_result=np.array(U_result)\n",
    "    Ues_result=np.array(Ues_result)\n",
    "    \n",
    "    return S_results, S_nhl_results,Qp_results,U_result,Ues_result\n"
   ]
  },
  {
   "cell_type": "code",
   "execution_count": 12,
   "id": "90ac97a4",
   "metadata": {},
   "outputs": [],
   "source": [
    "#Experimental data in array to execute all at once \n",
    "F_arr = np.array([14.02, 18.04])\n",
    "Tf_arr = np.array([341.30, 325.15])\n",
    "P1_arr = np.array([75190.00, 57242.13])\n",
    "Ps_arr = np.array([109663.79, 109663.8])\n",
    "xf_arr = np.array([0, 2.87])\n",
    "xL_arr = np.array([0, 5.57])\n",
    "V_arr = np.array([9.78, 10.24])\n",
    "S_expected_arr = np.array([12.8,14.92])\n",
    "#Apply function\n",
    "S_results,S_nhl, Q_results,U_result,Ues_result = losses_arr(S_expected_arr, P1_arr, Ps_arr, xf_arr, xL_arr, Tf_arr, F_arr, V_arr)\n"
   ]
  },
  {
   "cell_type": "code",
   "execution_count": 13,
   "id": "a3f0d6b0",
   "metadata": {},
   "outputs": [
    {
     "name": "stdout",
     "output_type": "stream",
     "text": [
      "Steam Mass: [14.12227499 13.59772361] kg\n",
      "Steam Mass (no heat loss): [10.5171436   9.99259221] kg\n",
      "Heat Losses : [ 5137.71510929 11089.44801967] kJ\n",
      "Overall Heat Transfer Coefficient (U) (model): [1002.6209893   586.13293208] J/K*cm²\n",
      "Overall Heat Transfer Coefficient (U) (exp): [908.74513281 643.12995285] J/K*cm²\n",
      "Mean Q_p: 8113.58\n",
      "Standard deviation Q_p: 2975.87\n",
      "Heat loss per second (kJ/s): 6.76132\n"
     ]
    }
   ],
   "source": [
    "#Print the results\n",
    "print(f\"Steam Mass: {S_results} kg\")\n",
    "print(f\"Steam Mass (no heat loss): {S_nhl} kg\")\n",
    "print(f\"Heat Losses : {Q_results/1000} kJ\")\n",
    "print(f\"Overall Heat Transfer Coefficient (U) (model): {U_result} J/K*cm²\")\n",
    "print(f\"Overall Heat Transfer Coefficient (U) (exp): {Ues_result} J/K*cm²\")\n",
    "prom = np.mean(Q_results/1000)\n",
    "desv = np.std(Q_results/1000)\n",
    "print(\"Mean Q_p: {:.2f}\".format(prom))\n",
    "print(\"Standard deviation Q_p: {:.2f}\".format(desv))\n",
    "tra=prom/(20*60)\n",
    "print(\"Heat loss per second (kJ/s): {:.5f}\".format(tra))"
   ]
  },
  {
   "cell_type": "code",
   "execution_count": 15,
   "id": "c95e58dd",
   "metadata": {},
   "outputs": [
    {
     "name": "stdout",
     "output_type": "stream",
     "text": [
      "No heat loss error in steam mass calculation: [17.83481561 33.02552136] %\n",
      "Heat loss error in steam mass calculation: [10.33027337  8.86244227] %\n"
     ]
    }
   ],
   "source": [
    "#Relative error to S_expected\n",
    "e_nhl=abs(S_nhl-S_expected_arr)*100/S_expected_arr\n",
    "e_heat_loss=abs(S_results-S_expected_arr)*100/S_expected_arr\n",
    "print(f\"No heat loss error in steam mass calculation: {e_nhl} %\")\n",
    "print(f\"Heat loss error in steam mass calculation: {e_heat_loss} %\")"
   ]
  },
  {
   "cell_type": "code",
   "execution_count": 16,
   "id": "cb9b7891",
   "metadata": {},
   "outputs": [
    {
     "name": "stdout",
     "output_type": "stream",
     "text": [
      "No heat loss error in steam mass calculation: [21.70604951 49.31060611] %\n",
      "Heat loss error in steam mass calculation: [9.36304521 9.72424814] %\n"
     ]
    }
   ],
   "source": [
    "#Relative error S_calculated\n",
    "e_nhl=abs(S_nhl-S_expected_arr)*100/S_nhl\n",
    "e_heat_loss=abs(S_results-S_expected_arr)*100/S_results\n",
    "print(f\"No heat loss error in steam mass calculation: {e_nhl} %\")\n",
    "print(f\"Heat loss error in steam mass calculation: {e_heat_loss} %\")"
   ]
  },
  {
   "cell_type": "code",
   "execution_count": 17,
   "id": "6abf51b5",
   "metadata": {},
   "outputs": [
    {
     "data": {
      "text/plain": [
       "2650.8706611904468"
      ]
     },
     "execution_count": 17,
     "metadata": {},
     "output_type": "execute_result"
    }
   ],
   "source": [
    "Hv = PropsSI('H', 'P', 57242.13, 'Q', 1, 'Water')  # Produced vapor at P1, T1 without solute\n",
    "hf = PropsSI('H', 'T', 325, 'P', 74000, 'Water')\n",
    "hL = PropsSI('H', 'T', 357.87, 'Q', 0, 'Water')  # Liquor enthalpy at T1, xL\n",
    "Hv/1000"
   ]
  },
  {
   "cell_type": "code",
   "execution_count": 18,
   "id": "c5036b2b",
   "metadata": {},
   "outputs": [
    {
     "data": {
      "image/png": "[encoded data removed]",
      "text/plain": [
       "<Figure size 800x500 with 1 Axes>"
      ]
     },
     "metadata": {},
     "output_type": "display_data"
    }
   ],
   "source": [
    "import matplotlib.pyplot as plt\n",
    "import numpy as np\n",
    "from scipy import stats\n",
    "plt.rcParams[\"font.family\"] = \"Times New Roman\"\n",
    "y= np.array([1.16555181351171,2.29311911543484,3.41347201659389,4.45871709670465,5.66429063464015,6.51588232738018,7.61392235220737,8.61398219925352,9.59264126149803,10.5438043119376])\n",
    "x=np.array([1.33479,1.335675,1.33822,1.339785,1.342415,1.34391,1.345815,1.34745,1.34925,1.350955])\n",
    "\n",
    "# Linear regression\n",
    "slope, intercept, r_value, p_value, std_err = stats.linregress(x, y)\n",
    "line = slope * x + intercept\n",
    "\n",
    "# Create the plot\n",
    "fig, ax = plt.subplots(figsize=(8, 5))\n",
    "ax.scatter(x, y, color='teal', edgecolor='teal')\n",
    "ax.plot(x, line, 'k--', linewidth=1)\n",
    "\n",
    "# Add regression equation and R²\n",
    "eq_text = (\n",
    "    rf\"$\\%\\,w/w = {slope:.2f} \\cdot \\eta_{{21}}^{{D}} {intercept:.2f}$\" + \"\\n\" +\n",
    "    rf\"$R^2 = {r_value**2:.4f}$\"\n",
    ")\n",
    "ax.text(1.3378, 8.5, eq_text, fontsize=10)\n",
    "\n",
    "# Axis labels\n",
    "ax.set_xlabel(r\"Refractive index ($\\eta_{21}^{D}$)\", fontsize=12,labelpad=15)\n",
    "ax.set_ylabel(\"% w/w\", fontsize=12)\n",
    "\n",
    "# Set axis limits\n",
    "ax.set_xlim(1.33400, 1.3525)\n",
    "ax.set_ylim(0, 12)\n",
    "\n",
    "# Rotate x-ticks if needed\n",
    "plt.xticks(rotation=30)\n",
    "\n",
    "# Show grid\n",
    "ax.grid(True, linestyle='--', alpha=0.5)\n",
    "\n",
    "# Show plot\n",
    "plt.tight_layout()\n",
    "plt.show()"
   ]
  }
 ],
 "metadata": {
  "kernelspec": {
   "display_name": "Evaporadores",
   "language": "python",
   "name": "python3"
  },
  "language_info": {
   "codemirror_mode": {
    "name": "ipython",
    "version": 3
   },
   "file_extension": ".py",
   "mimetype": "text/x-python",
   "name": "python",
   "nbconvert_exporter": "python",
   "pygments_lexer": "ipython3",
   "version": "3.12.4"
  }
 },
 "nbformat": 4,
 "nbformat_minor": 5
}
